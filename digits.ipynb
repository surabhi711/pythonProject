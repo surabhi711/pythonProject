{
 "cells": [
  {
   "cell_type": "code",
   "execution_count": 1,
   "metadata": {},
   "outputs": [],
   "source": [
    "import numpy as np\n",
    "import matplotlib.pyplot as plt\n",
    "import matplotlib.gridspec as gridspec\n",
    "from sklearn.datasets import load_digits\n",
    "from sklearn.metrics import accuracy_score\n",
    "from collections import Counter\n",
    "\n",
    "def predict(X_train, y_train, x_test, k):\n",
    "    distances = []\n",
    "    targets = []\n",
    "\n",
    "    for i in range(len(X_train)):\n",
    "        distance = np.sqrt(np.sum(np.square(x_test - X_train[i, :])))\n",
    "        distances.append([distance, i])\n",
    "\n",
    "    distances = sorted(distances)\n",
    "\n",
    "    for i in range(k):\n",
    "        index = distances[i][1]\n",
    "        targets.append(y_train[index])\n",
    "\n",
    "    return Counter(targets).most_common(1)[0][0]\n"
   ]
  },
  {
   "cell_type": "code",
   "execution_count": 2,
   "metadata": {},
   "outputs": [],
   "source": [
    "def knn(X_train, y_train, X_test, z, k):\n",
    "    if k > len(X_train):\n",
    "        raise ValueError\n",
    "    for i in range(len(X_test)):\n",
    "        z.append(predict(X_train, y_train, X_test[i, :], k))\n",
    "    "
   ]
  },
  {
   "cell_type": "code",
   "execution_count": 3,
   "metadata": {},
   "outputs": [],
   "source": [
    "dig = load_digits()\n",
    "X = dig.data\n",
    "y = dig.target\n",
    "\n",
    "np.random.seed(0)\n",
    "indices = np.random.permutation(len(X))\n",
    "X_train = X[indices[:-200]]\n",
    "y_train = y[indices[:-200]]\n",
    "X_test = X[indices[-200:]]\n",
    "y_test = y[indices[-200:]]\n"
   ]
  },
  {
   "cell_type": "code",
   "execution_count": 4,
   "metadata": {},
   "outputs": [
    {
     "name": "stdout",
     "output_type": "stream",
     "text": [
      "Accuracy of self made KNN: 99%\n"
     ]
    }
   ],
   "source": [
    "z = []\n",
    "try:\n",
    "    knn(X_train, y_train, X_test, z, 7)\n",
    "    z = np.asarray(z)\n",
    "    accuracy = accuracy_score(y_test, z) * 100\n",
    "    print('Accuracy of self made KNN: %d%%' %accuracy)\n",
    "\n",
    "except ValueError:\n",
    "    print('Cannot have more neighbors than training samples.')\n"
   ]
  },
  {
   "cell_type": "code",
   "execution_count": 5,
   "metadata": {},
   "outputs": [
    {
     "name": "stdout",
     "output_type": "stream",
     "text": [
      "Accuracy of sklearn KNN : 99%\n"
     ]
    }
   ],
   "source": [
    "from sklearn.neighbors import KNeighborsClassifier\n",
    "model = KNeighborsClassifier(n_neighbors=7)\n",
    "model.fit(X_train,y_train)\n",
    "pred = model.predict(X_test)\n",
    "acc = accuracy_score(y_test,pred) *100\n",
    "print('Accuracy of sklearn KNN : %d%%'%acc)"
   ]
  },
  {
   "cell_type": "code",
   "execution_count": 6,
   "metadata": {},
   "outputs": [
    {
     "name": "stdout",
     "output_type": "stream",
     "text": [
      "Enter the data to be predicted : 234\n",
      "[6]\n"
     ]
    },
    {
     "data": {
      "image/png": "[encoded data removed]",
      "text/plain": [
       "<matplotlib.figure.Figure at 0x20b09eee518>"
      ]
     },
     "metadata": {},
     "output_type": "display_data"
    }
   ],
   "source": [
    "from sklearn import svm\n",
    "\n",
    "def makearr(i):\n",
    "      arr = np.array(X[i],ndmin=2)\n",
    "      return arr\n",
    "\n",
    "model = svm.SVC(gamma=0.0001,C=10)\n",
    "model.fit(X_train,y_train)\n",
    "\n",
    "i = int(input('Enter the data to be predicted : '))\n",
    "a = makearr(i)\n",
    "print(model.predict(a))\n",
    "\n",
    "plt.imshow(dig.images[i], cmap=plt.cm.gray_r, interpolation='nearest')\n",
    "plt.show()"
   ]
  },
  {
   "cell_type": "code",
   "execution_count": null,
   "metadata": {},
   "outputs": [],
   "source": []
  }
 ],
 "metadata": {
  "kernelspec": {
   "display_name": "Python 3",
   "language": "python",
   "name": "python3"
  },
  "language_info": {
   "codemirror_mode": {
    "name": "ipython",
    "version": 3
   },
   "file_extension": ".py",
   "mimetype": "text/x-python",
   "name": "python",
   "nbconvert_exporter": "python",
   "pygments_lexer": "ipython3",
   "version": "3.5.3rc1"
  }
 },
 "nbformat": 4,
 "nbformat_minor": 2
}
