{
 "cells": [
  {
   "cell_type": "code",
   "execution_count": 1,
   "metadata": {},
   "outputs": [],
   "source": [
    "import numpy as np\n",
    "import matplotlib.pyplot as plt\n",
    "import matplotlib.gridspec as gridspec\n",
    "from sklearn.datasets import load_digits\n",
    "from sklearn.metrics import accuracy_score\n",
    "\n",
    "dig = load_digits()\n",
    "X = dig.data \n",
    "y = dig.target\n",
    "\n",
    "np.random.seed(0)\n",
    "t = len(X)//10\n",
    "indices = np.random.permutation(len(X))\n",
    "X_train = X[indices[:-t]]\n",
    "y_train = y[indices[:-t]]\n",
    "X_test = X[indices[-t:]]\n",
    "y_test = y[indices[-t:]]\n",
    "\n",
    "acc = []\n",
    "model_names = ['Logistic Regression', 'KNN k=3', 'KNN k=7', 'SVM Linear', 'SVM RBF', 'SVM polynomial', 'CART']"
   ]
  },
  {
   "cell_type": "code",
   "execution_count": 2,
   "metadata": {},
   "outputs": [
    {
     "name": "stdout",
     "output_type": "stream",
     "text": [
      "LogisticRegression(C=100000.0, class_weight=None, dual=False,\n",
      "          fit_intercept=True, intercept_scaling=1, max_iter=100,\n",
      "          multi_class='ovr', n_jobs=1, penalty='l2', random_state=None,\n",
      "          solver='liblinear', tol=0.0001, verbose=0, warm_start=False)\n",
      "Accuracy for logistic regression: 93%\n",
      "\n"
     ]
    }
   ],
   "source": [
    "from sklearn.linear_model import LogisticRegression\n",
    "model = LogisticRegression(C=1e5)\n",
    "model.fit(X_train,y_train)\n",
    "z = model.predict(X_test)\n",
    "acc.append(accuracy_score(z, y_test)*100)\n",
    "print(model)\n",
    "print('Accuracy for logistic regression: %d%%\\n'%(acc[0]))"
   ]
  },
  {
   "cell_type": "code",
   "execution_count": 3,
   "metadata": {},
   "outputs": [
    {
     "name": "stdout",
     "output_type": "stream",
     "text": [
      "KNeighborsClassifier(algorithm='auto', leaf_size=30, metric='minkowski',\n",
      "           metric_params=None, n_jobs=1, n_neighbors=3, p=2,\n",
      "           weights='uniform')\n",
      "Accuracy for KNN classifier with k=3: 99%\n",
      "\n"
     ]
    }
   ],
   "source": [
    "from sklearn.neighbors import KNeighborsClassifier\n",
    "model = KNeighborsClassifier(n_neighbors=3)\n",
    "model.fit(X_train,y_train)\n",
    "z = model.predict(X_test)\n",
    "acc.append(accuracy_score(z, y_test)*100)\n",
    "print(model)\n",
    "print('Accuracy for KNN classifier with k=3: %d%%\\n'%(acc[1]))"
   ]
  },
  {
   "cell_type": "code",
   "execution_count": 4,
   "metadata": {},
   "outputs": [
    {
     "name": "stdout",
     "output_type": "stream",
     "text": [
      "KNeighborsClassifier(algorithm='auto', leaf_size=30, metric='minkowski',\n",
      "           metric_params=None, n_jobs=1, n_neighbors=7, p=2,\n",
      "           weights='uniform')\n",
      "Accuracy for KNN classifier with k=7: 100%\n",
      "\n"
     ]
    }
   ],
   "source": [
    "model = KNeighborsClassifier(n_neighbors=7)\n",
    "model.fit(X_train,y_train)\n",
    "z = model.predict(X_test)\n",
    "acc.append(accuracy_score(z, y_test)*100)\n",
    "print(model)\n",
    "print('Accuracy for KNN classifier with k=7: %d%%\\n'%(acc[2]))"
   ]
  },
  {
   "cell_type": "code",
   "execution_count": 5,
   "metadata": {},
   "outputs": [
    {
     "name": "stdout",
     "output_type": "stream",
     "text": [
      "SVC(C=1.0, cache_size=200, class_weight=None, coef0=0.0,\n",
      "  decision_function_shape='ovr', degree=3, gamma='auto', kernel='linear',\n",
      "  max_iter=-1, probability=False, random_state=None, shrinking=True,\n",
      "  tol=0.001, verbose=False)\n",
      "Accuracy for SVM-linear classifier: 98%\n",
      "\n"
     ]
    }
   ],
   "source": [
    "from sklearn.svm import SVC\n",
    "model = SVC(kernel='linear',C=1.0)\n",
    "model.fit(X_train,y_train)\n",
    "z = model.predict(X_test)\n",
    "acc.append(accuracy_score(z, y_test)*100)\n",
    "print(model)\n",
    "print('Accuracy for SVM-linear classifier: %d%%\\n'%(acc[3]))"
   ]
  },
  {
   "cell_type": "code",
   "execution_count": 6,
   "metadata": {},
   "outputs": [
    {
     "name": "stdout",
     "output_type": "stream",
     "text": [
      "SVC(C=1.0, cache_size=200, class_weight=None, coef0=0.0,\n",
      "  decision_function_shape='ovr', degree=3, gamma=0.001, kernel='rbf',\n",
      "  max_iter=-1, probability=False, random_state=None, shrinking=True,\n",
      "  tol=0.001, verbose=False)\n",
      "Accuracy for SVM-rbf classifier: 100%\n",
      "\n"
     ]
    }
   ],
   "source": [
    "model = SVC(kernel='rbf',gamma=0.001,C=1.0)\n",
    "model.fit(X_train,y_train)\n",
    "z = model.predict(X_test)\n",
    "acc.append(accuracy_score(z, y_test)*100)\n",
    "print(model)\n",
    "print('Accuracy for SVM-rbf classifier: %d%%\\n'%(acc[4]))"
   ]
  },
  {
   "cell_type": "code",
   "execution_count": 7,
   "metadata": {},
   "outputs": [
    {
     "name": "stdout",
     "output_type": "stream",
     "text": [
      "SVC(C=1.0, cache_size=200, class_weight=None, coef0=0.0,\n",
      "  decision_function_shape='ovr', degree=3, gamma='auto', kernel='poly',\n",
      "  max_iter=-1, probability=False, random_state=None, shrinking=True,\n",
      "  tol=0.001, verbose=False)\n",
      "Accuracy for SVM-linear classifier: 100%\n",
      "\n"
     ]
    }
   ],
   "source": [
    "model = SVC(kernel='poly', degree=3, C=1.0)\n",
    "model.fit(X_train,y_train)\n",
    "z = model.predict(X_test)\n",
    "acc.append(accuracy_score(z, y_test)*100)\n",
    "print(model)\n",
    "print('Accuracy for SVM-linear classifier: %d%%\\n'%(acc[5]))"
   ]
  },
  {
   "cell_type": "code",
   "execution_count": 8,
   "metadata": {},
   "outputs": [
    {
     "name": "stdout",
     "output_type": "stream",
     "text": [
      "DecisionTreeClassifier(class_weight=None, criterion='gini', max_depth=None,\n",
      "            max_features=None, max_leaf_nodes=None,\n",
      "            min_impurity_decrease=0.0, min_impurity_split=None,\n",
      "            min_samples_leaf=1, min_samples_split=2,\n",
      "            min_weight_fraction_leaf=0.0, presort=False, random_state=None,\n",
      "            splitter='best')\n",
      "Accuracy for CART: 85%\n"
     ]
    }
   ],
   "source": [
    "from sklearn.tree import DecisionTreeClassifier\n",
    "model = DecisionTreeClassifier()\n",
    "model.fit(X_train,y_train)\n",
    "z = model.predict(X_test)\n",
    "acc.append(accuracy_score(z, y_test)*100)\n",
    "print(model)\n",
    "print('Accuracy for CART: %d%%'%(acc[6]))"
   ]
  },
  {
   "cell_type": "code",
   "execution_count": 14,
   "metadata": {},
   "outputs": [
    {
     "name": "stdout",
     "output_type": "stream",
     "text": [
      "     Accuracy           Classifier\n",
      "0   93.854749  Logistic Regression\n",
      "1   99.441341              KNN k=3\n",
      "2  100.000000              KNN k=7\n",
      "3   98.882682           SVM Linear\n",
      "4  100.000000              SVM RBF\n",
      "5  100.000000       SVM polynomial\n",
      "6   85.474860                 CART\n"
     ]
    }
   ],
   "source": [
    "import pandas as pd\n",
    "accuracy = pd.DataFrame({'Classifier':model_names, 'Accuracy':acc})\n",
    "print(accuracy)"
   ]
  },
  {
   "cell_type": "code",
   "execution_count": 18,
   "metadata": {},
   "outputs": [
    {
     "data": {
      "image/png": "[encoded data removed]",
      "text/plain": [
       "<matplotlib.figure.Figure at 0x242b838b080>"
      ]
     },
     "metadata": {},
     "output_type": "display_data"
    }
   ],
   "source": [
    "n_groups = 7\n",
    "fig, ax = plt.subplots()\n",
    "index = np.arange(n_groups)\n",
    "bar_width = 0.35\n",
    "opacity = 0.8\n",
    " \n",
    "rects = plt.bar(index, acc, bar_width,\n",
    "                 alpha=opacity,\n",
    "                 color='b', label='Accuracy')\n",
    " \n",
    "plt.xlabel('Models')\n",
    "plt.ylabel('Accuracy (%)')\n",
    "plt.title('Accuracy Comparison')\n",
    "plt.xticks(index + bar_width, model_names)\n",
    "plt.legend()\n",
    " \n",
    "plt.tight_layout()\n",
    "plt.show()\n"
   ]
  },
  {
   "cell_type": "code",
   "execution_count": null,
   "metadata": {},
   "outputs": [],
   "source": []
  }
 ],
 "metadata": {
  "kernelspec": {
   "display_name": "Python 3",
   "language": "python",
   "name": "python3"
  },
  "language_info": {
   "codemirror_mode": {
    "name": "ipython",
    "version": 3
   },
   "file_extension": ".py",
   "mimetype": "text/x-python",
   "name": "python",
   "nbconvert_exporter": "python",
   "pygments_lexer": "ipython3",
   "version": "3.5.3rc1"
  }
 },
 "nbformat": 4,
 "nbformat_minor": 2
}
